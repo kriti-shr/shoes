{
 "cells": [
  {
   "cell_type": "markdown",
   "id": "39a03f9f-7bcb-4728-b75a-e8e0e3243cd9",
   "metadata": {},
   "source": [
    "# Mode; Retrain"
   ]
  },
  {
   "cell_type": "code",
   "execution_count": 2,
   "id": "b37aada1-b198-4e26-a395-191fd8373f48",
   "metadata": {},
   "outputs": [],
   "source": [
    "import joblib"
   ]
  },
  {
   "cell_type": "code",
   "execution_count": 3,
   "id": "81a12853-be85-4fd1-8e93-a4dcb63ef3e7",
   "metadata": {},
   "outputs": [],
   "source": [
    "from sklearn.model_selection import train_test_split"
   ]
  },
  {
   "cell_type": "code",
   "execution_count": 4,
   "id": "ac3335f3-f1d8-4baa-9adb-c57b25a2a0be",
   "metadata": {},
   "outputs": [],
   "source": [
    "import pandas as pd"
   ]
  },
  {
   "cell_type": "code",
   "execution_count": 5,
   "id": "6f107cc1-7d48-411e-aaf1-3fe512bd323e",
   "metadata": {},
   "outputs": [],
   "source": [
    "data=pd.read_csv(r'image_array_kathford.csv')"
   ]
  },
  {
   "cell_type": "code",
   "execution_count": 6,
   "id": "bd240622-8bf3-4b6d-be18-bf442e11fb88",
   "metadata": {},
   "outputs": [
    {
     "data": {
      "text/html": [
       "<div>\n",
       "<style scoped>\n",
       "    .dataframe tbody tr th:only-of-type {\n",
       "        vertical-align: middle;\n",
       "    }\n",
       "\n",
       "    .dataframe tbody tr th {\n",
       "        vertical-align: top;\n",
       "    }\n",
       "\n",
       "    .dataframe thead th {\n",
       "        text-align: right;\n",
       "    }\n",
       "</style>\n",
       "<table border=\"1\" class=\"dataframe\">\n",
       "  <thead>\n",
       "    <tr style=\"text-align: right;\">\n",
       "      <th></th>\n",
       "      <th>0</th>\n",
       "      <th>1</th>\n",
       "      <th>2</th>\n",
       "      <th>3</th>\n",
       "      <th>4</th>\n",
       "      <th>5</th>\n",
       "      <th>6</th>\n",
       "      <th>7</th>\n",
       "      <th>8</th>\n",
       "      <th>9</th>\n",
       "      <th>...</th>\n",
       "      <th>172791</th>\n",
       "      <th>172792</th>\n",
       "      <th>172793</th>\n",
       "      <th>172794</th>\n",
       "      <th>172795</th>\n",
       "      <th>172796</th>\n",
       "      <th>172797</th>\n",
       "      <th>172798</th>\n",
       "      <th>172799</th>\n",
       "      <th>shoes</th>\n",
       "    </tr>\n",
       "  </thead>\n",
       "  <tbody>\n",
       "    <tr>\n",
       "      <th>0</th>\n",
       "      <td>255</td>\n",
       "      <td>255</td>\n",
       "      <td>255</td>\n",
       "      <td>255</td>\n",
       "      <td>255</td>\n",
       "      <td>255</td>\n",
       "      <td>255</td>\n",
       "      <td>255</td>\n",
       "      <td>255</td>\n",
       "      <td>255</td>\n",
       "      <td>...</td>\n",
       "      <td>255</td>\n",
       "      <td>255</td>\n",
       "      <td>255</td>\n",
       "      <td>255</td>\n",
       "      <td>255</td>\n",
       "      <td>255</td>\n",
       "      <td>255</td>\n",
       "      <td>255</td>\n",
       "      <td>255</td>\n",
       "      <td>adidas</td>\n",
       "    </tr>\n",
       "    <tr>\n",
       "      <th>1</th>\n",
       "      <td>241</td>\n",
       "      <td>245</td>\n",
       "      <td>246</td>\n",
       "      <td>241</td>\n",
       "      <td>245</td>\n",
       "      <td>246</td>\n",
       "      <td>244</td>\n",
       "      <td>245</td>\n",
       "      <td>247</td>\n",
       "      <td>244</td>\n",
       "      <td>...</td>\n",
       "      <td>156</td>\n",
       "      <td>156</td>\n",
       "      <td>156</td>\n",
       "      <td>156</td>\n",
       "      <td>156</td>\n",
       "      <td>156</td>\n",
       "      <td>156</td>\n",
       "      <td>156</td>\n",
       "      <td>156</td>\n",
       "      <td>adidas</td>\n",
       "    </tr>\n",
       "    <tr>\n",
       "      <th>2</th>\n",
       "      <td>255</td>\n",
       "      <td>255</td>\n",
       "      <td>255</td>\n",
       "      <td>255</td>\n",
       "      <td>255</td>\n",
       "      <td>255</td>\n",
       "      <td>255</td>\n",
       "      <td>255</td>\n",
       "      <td>255</td>\n",
       "      <td>255</td>\n",
       "      <td>...</td>\n",
       "      <td>255</td>\n",
       "      <td>255</td>\n",
       "      <td>255</td>\n",
       "      <td>255</td>\n",
       "      <td>255</td>\n",
       "      <td>255</td>\n",
       "      <td>255</td>\n",
       "      <td>255</td>\n",
       "      <td>255</td>\n",
       "      <td>adidas</td>\n",
       "    </tr>\n",
       "  </tbody>\n",
       "</table>\n",
       "<p>3 rows × 172801 columns</p>\n",
       "</div>"
      ],
      "text/plain": [
       "     0    1    2    3    4    5    6    7    8    9  ...  172791  172792  \\\n",
       "0  255  255  255  255  255  255  255  255  255  255  ...     255     255   \n",
       "1  241  245  246  241  245  246  244  245  247  244  ...     156     156   \n",
       "2  255  255  255  255  255  255  255  255  255  255  ...     255     255   \n",
       "\n",
       "   172793  172794  172795  172796  172797  172798  172799   shoes  \n",
       "0     255     255     255     255     255     255     255  adidas  \n",
       "1     156     156     156     156     156     156     156  adidas  \n",
       "2     255     255     255     255     255     255     255  adidas  \n",
       "\n",
       "[3 rows x 172801 columns]"
      ]
     },
     "execution_count": 6,
     "metadata": {},
     "output_type": "execute_result"
    }
   ],
   "source": [
    "data.head(3)"
   ]
  },
  {
   "cell_type": "code",
   "execution_count": 7,
   "id": "ce9f6d58-ac2a-4c13-ac88-d31186101426",
   "metadata": {},
   "outputs": [],
   "source": [
    "#load the model\n",
    "model = joblib.load('model_kathford.pt')"
   ]
  },
  {
   "cell_type": "code",
   "execution_count": 8,
   "id": "608b337c-9891-4b77-88a5-36657b3a11b6",
   "metadata": {},
   "outputs": [],
   "source": [
    "ac_s = []"
   ]
  },
  {
   "cell_type": "code",
   "execution_count": 9,
   "id": "c161f9a3-62b2-43ca-8392-ff716c9fc6c9",
   "metadata": {},
   "outputs": [],
   "source": [
    "from sklearn.metrics import accuracy_score"
   ]
  },
  {
   "cell_type": "code",
   "execution_count": 10,
   "id": "82b9321a-975f-4853-9ddf-432bf5c9e2e5",
   "metadata": {},
   "outputs": [],
   "source": [
    "for x in range(10):\n",
    "    df=data.sample(frac=1)\n",
    "    X=df.drop('shoes',axis=1)\n",
    "    y=df.shoes\n",
    "    X_train, X_test, y_train, y_test = train_test_split(X, y, test_size=0.2, random_state = 42)\n",
    "    model.fit(X_train, y_train)\n",
    "    y_pred = model.predict(X_test)\n",
    "    acs = accuracy_score(y_test, y_pred)\n",
    "    ac_s.append(acs)"
   ]
  },
  {
   "cell_type": "code",
   "execution_count": 11,
   "id": "cdb7362e-a7ca-41c0-90c2-9b15975aafd5",
   "metadata": {},
   "outputs": [
    {
     "data": {
      "image/png": "[encoded data removed]",
      "text/plain": [
       "<Figure size 640x480 with 1 Axes>"
      ]
     },
     "metadata": {},
     "output_type": "display_data"
    }
   ],
   "source": [
    "#plot the score values\n",
    "import matplotlib.pyplot as plt\n",
    "plt.plot(range(10), ac_s, marker='D')\n",
    "plt.grid()"
   ]
  },
  {
   "cell_type": "code",
   "execution_count": null,
   "id": "59c28d54-f7a5-44d2-947f-616a8b4f8de4",
   "metadata": {},
   "outputs": [],
   "source": []
  }
 ],
 "metadata": {
  "kernelspec": {
   "display_name": "venv",
   "language": "python",
   "name": "python3"
  },
  "language_info": {
   "codemirror_mode": {
    "name": "ipython",
    "version": 3
   },
   "file_extension": ".py",
   "mimetype": "text/x-python",
   "name": "python",
   "nbconvert_exporter": "python",
   "pygments_lexer": "ipython3",
   "version": "3.13.1"
  }
 },
 "nbformat": 4,
 "nbformat_minor": 5
}
